{
 "cells": [
  {
   "cell_type": "markdown",
   "id": "9ecdeade",
   "metadata": {},
   "source": [
    "# Importing Libraries"
   ]
  },
  {
   "cell_type": "markdown",
   "id": "07de75df",
   "metadata": {},
   "source": [
    "## Goal 1: Connect Gmail in read only mode and fetch unread or recent emails"
   ]
  },
  {
   "cell_type": "code",
   "execution_count": 156,
   "id": "2bb9033e",
   "metadata": {},
   "outputs": [],
   "source": [
    "import imaplib\n",
    "import pprint\n",
    "import email \n",
    "from email.policy import default"
   ]
  },
  {
   "cell_type": "code",
   "execution_count": 157,
   "id": "1fee3567",
   "metadata": {},
   "outputs": [],
   "source": [
    "import yaml"
   ]
  },
  {
   "cell_type": "code",
   "execution_count": 158,
   "id": "9284ca4f",
   "metadata": {},
   "outputs": [],
   "source": [
    "with open(\"CONFIDENTIAL.yml\") as f:\n",
    "    content = f.read()"
   ]
  },
  {
   "cell_type": "code",
   "execution_count": 159,
   "id": "dfe09df8",
   "metadata": {},
   "outputs": [],
   "source": [
    "credentials = yaml.load(content, Loader=yaml.FullLoader)"
   ]
  },
  {
   "cell_type": "code",
   "execution_count": 160,
   "id": "e8e27002",
   "metadata": {},
   "outputs": [],
   "source": [
    "user, password = credentials[\"user\"], credentials[\"password\"]"
   ]
  },
  {
   "cell_type": "code",
   "execution_count": 161,
   "id": "7a62ffc6",
   "metadata": {},
   "outputs": [],
   "source": [
    "imap_host = 'imap.gmail.com'\n",
    "imap_user = user\n",
    "imap_pass = password"
   ]
  },
  {
   "cell_type": "code",
   "execution_count": 162,
   "id": "7dbb73fc",
   "metadata": {},
   "outputs": [],
   "source": [
    "imap = imaplib.IMAP4_SSL(imap_host)"
   ]
  },
  {
   "cell_type": "code",
   "execution_count": 163,
   "id": "791b182b",
   "metadata": {},
   "outputs": [
    {
     "data": {
      "text/plain": [
       "('OK', [b'bilalrukundi1658@gmail.com authenticated (Success)'])"
      ]
     },
     "execution_count": 163,
     "metadata": {},
     "output_type": "execute_result"
    }
   ],
   "source": [
    "imap.login(imap_user, imap_pass)"
   ]
  },
  {
   "cell_type": "markdown",
   "id": "81843c62",
   "metadata": {},
   "source": [
    "Gmail requires you to either create a \n",
    "\n",
    "\"app password\" \n",
    "or to enable\n",
    "\"imap\"\n",
    "\n",
    "in account settings in order to login into your account so no third party apps can login \n",
    "with just the username/email and password."
   ]
  },
  {
   "cell_type": "code",
   "execution_count": 164,
   "id": "45859970",
   "metadata": {},
   "outputs": [
    {
     "data": {
      "text/plain": [
       "('OK', [b'310'])"
      ]
     },
     "execution_count": 164,
     "metadata": {},
     "output_type": "execute_result"
    }
   ],
   "source": [
    "imap.select('inbox') "
   ]
  },
  {
   "cell_type": "code",
   "execution_count": 165,
   "id": "7d6c5008",
   "metadata": {},
   "outputs": [],
   "source": [
    "msgs = []"
   ]
  },
  {
   "cell_type": "code",
   "execution_count": 166,
   "id": "061c3c73",
   "metadata": {},
   "outputs": [],
   "source": [
    "tmp, data = imap.search(None, 'ALL')"
   ]
  },
  {
   "cell_type": "code",
   "execution_count": 167,
   "id": "f47217db",
   "metadata": {},
   "outputs": [],
   "source": [
    "mail_id = data[0].split()"
   ]
  },
  {
   "cell_type": "code",
   "execution_count": 168,
   "id": "189194aa",
   "metadata": {},
   "outputs": [],
   "source": [
    "for num in mail_id:\n",
    "    status, msg_data = imap.fetch(num,\"(RFC822)\")"
   ]
  }
 ],
 "metadata": {
  "kernelspec": {
   "display_name": "Python 3",
   "language": "python",
   "name": "python3"
  },
  "language_info": {
   "codemirror_mode": {
    "name": "ipython",
    "version": 3
   },
   "file_extension": ".py",
   "mimetype": "text/x-python",
   "name": "python",
   "nbconvert_exporter": "python",
   "pygments_lexer": "ipython3",
   "version": "3.10.0"
  }
 },
 "nbformat": 4,
 "nbformat_minor": 5
}
